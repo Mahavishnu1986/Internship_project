{
 "cells": [
  {
   "cell_type": "code",
   "execution_count": 1,
   "id": "67a07341",
   "metadata": {
    "scrolled": true
   },
   "outputs": [
    {
     "name": "stdout",
     "output_type": "stream",
     "text": [
      "Hello, World!\n"
     ]
    }
   ],
   "source": [
    "print(\"Hello, World!\")"
   ]
  },
  {
   "cell_type": "code",
   "execution_count": null,
   "id": "376c1f36",
   "metadata": {},
   "outputs": [],
   "source": []
  },
  {
   "cell_type": "markdown",
   "id": "0bd6916b",
   "metadata": {},
   "source": [
    "### Task\n",
    "Given an integer, , perform the following conditional actions:\n",
    "\n",
    "* If  is odd, print Weird\n",
    "* If  is even and in the inclusive range of  to , print Not Weird\n",
    "* If  is even and in the inclusive range of  to , print Weird\n",
    "* If  is even and greater than , print Not Weird"
   ]
  },
  {
   "cell_type": "code",
   "execution_count": 25,
   "id": "778e65bc",
   "metadata": {},
   "outputs": [
    {
     "name": "stdout",
     "output_type": "stream",
     "text": [
      "3\n",
      "weird\n"
     ]
    }
   ],
   "source": [
    "\n",
    "\n",
    "n=int(input())\n",
    "\n",
    "if n%2==1:\n",
    "    print(\"weird\")\n",
    "\n",
    "if n>2 and n<5:\n",
    "    \n",
    "    if n%2==0:\n",
    "        \n",
    "        print(\"not weird\")\n",
    "elif n>=6 and n<=20:\n",
    "    if n%2==0:\n",
    "        \n",
    "        print(\"wired\")\n",
    "elif n>20:\n",
    "    if n%2==0:\n",
    "        print(\"weird\")\n",
    "else:\n",
    "    print(\"weird\")\n"
   ]
  },
  {
   "cell_type": "code",
   "execution_count": null,
   "id": "a77d1d0f",
   "metadata": {},
   "outputs": [],
   "source": []
  },
  {
   "cell_type": "markdown",
   "id": "db834e59",
   "metadata": {},
   "source": [
    "## Task\n",
    "The provided code stub reads two integers from STDIN,  and . Add code to print three lines where:\n",
    "\n",
    "* The first line contains the sum of the two numbers.\n",
    "* The second line contains the difference of the two numbers (first - second).\n",
    "* The third line contains the product of the two numbers."
   ]
  },
  {
   "cell_type": "code",
   "execution_count": 26,
   "id": "c2cb4a65",
   "metadata": {},
   "outputs": [
    {
     "name": "stdout",
     "output_type": "stream",
     "text": [
      "2\n",
      "3\n",
      "5\n",
      "-1\n",
      "6\n"
     ]
    }
   ],
   "source": [
    "a=int(input())\n",
    "b=int(input())\n",
    "print(a+b)\n",
    "print(a-b)\n",
    "print(a*b)"
   ]
  },
  {
   "cell_type": "markdown",
   "id": "03a47469",
   "metadata": {},
   "source": [
    "### Task\n",
    "The provided code stub reads two integers,  and , from STDIN.\n",
    "\n",
    "Add logic to print two lines. \n",
    "* The first line should contain the result of integer division,. \n",
    "* The second line should contain the result of float division,."
   ]
  },
  {
   "cell_type": "code",
   "execution_count": 28,
   "id": "48b17c67",
   "metadata": {},
   "outputs": [
    {
     "name": "stdout",
     "output_type": "stream",
     "text": [
      "2\n",
      "3\n",
      "0\n",
      "0.6666666666666666\n"
     ]
    }
   ],
   "source": [
    "a=int(input())\n",
    "b=int(input())\n",
    "print(int(a//b))\n",
    "print(float(a/b))\n"
   ]
  },
  {
   "cell_type": "markdown",
   "id": "971528b9",
   "metadata": {},
   "source": [
    "### Task\n",
    "The provided code stub reads and integer, , from STDIN. For all non-negative integers , print ."
   ]
  },
  {
   "cell_type": "code",
   "execution_count": 40,
   "id": "a9c4cb01",
   "metadata": {},
   "outputs": [
    {
     "name": "stdout",
     "output_type": "stream",
     "text": [
      "3\n",
      "0\n",
      "1\n",
      "4\n"
     ]
    }
   ],
   "source": [
    "n=int(input())\n",
    "\n",
    "for i in range(n):\n",
    "    \n",
    "    print(i*i)\n",
    "    \n",
    "\n"
   ]
  },
  {
   "cell_type": "code",
   "execution_count": 5,
   "id": "47e79b18",
   "metadata": {},
   "outputs": [],
   "source": [
    "def add_num(a,b):\n",
    "    result=a*b\n",
    "    print(result)\n",
    "    \n",
    "    "
   ]
  },
  {
   "cell_type": "code",
   "execution_count": 6,
   "id": "43d8e215",
   "metadata": {
    "scrolled": true
   },
   "outputs": [
    {
     "name": "stdout",
     "output_type": "stream",
     "text": [
      "300\n"
     ]
    }
   ],
   "source": [
    "add_num(10,30)"
   ]
  },
  {
   "cell_type": "code",
   "execution_count": null,
   "id": "a96050fb",
   "metadata": {},
   "outputs": [],
   "source": []
  },
  {
   "cell_type": "markdown",
   "id": "28043e78",
   "metadata": {},
   "source": [
    "### Task\n",
    "\n",
    "* Given a year, determine whether it is a leap year. \n",
    "* If it is a leap year, return the Boolean True, otherwise return False."
   ]
  },
  {
   "cell_type": "code",
   "execution_count": 29,
   "id": "ff20c748",
   "metadata": {},
   "outputs": [],
   "source": [
    "def is_leap(year):\n",
    "\n",
    "    if year% 400==0:\n",
    "        leap=True\n",
    "    else:\n",
    "        leap=False\n",
    "        \n",
    "    \n",
    "    return leap\n",
    "\n",
    "###year = int(input())"
   ]
  },
  {
   "cell_type": "code",
   "execution_count": 32,
   "id": "dd63f4ca",
   "metadata": {},
   "outputs": [
    {
     "data": {
      "text/plain": [
       "True"
      ]
     },
     "execution_count": 32,
     "metadata": {},
     "output_type": "execute_result"
    }
   ],
   "source": [
    "is_leap(2400)"
   ]
  },
  {
   "cell_type": "markdown",
   "id": "37206a7c",
   "metadata": {},
   "source": [
    "#### Print the list of integers from  through  as a string, without spaces."
   ]
  },
  {
   "cell_type": "code",
   "execution_count": 37,
   "id": "a880e49c",
   "metadata": {},
   "outputs": [
    {
     "name": "stdout",
     "output_type": "stream",
     "text": [
      "3\n",
      "123"
     ]
    }
   ],
   "source": [
    "num=int(input())\n",
    "\n",
    "for i in range(1,num+1):\n",
    "    print(i,end=\"\")"
   ]
  },
  {
   "cell_type": "code",
   "execution_count": null,
   "id": "b79356a0",
   "metadata": {},
   "outputs": [],
   "source": []
  }
 ],
 "metadata": {
  "kernelspec": {
   "display_name": "Python 3 (ipykernel)",
   "language": "python",
   "name": "python3"
  },
  "language_info": {
   "codemirror_mode": {
    "name": "ipython",
    "version": 3
   },
   "file_extension": ".py",
   "mimetype": "text/x-python",
   "name": "python",
   "nbconvert_exporter": "python",
   "pygments_lexer": "ipython3",
   "version": "3.9.12"
  }
 },
 "nbformat": 4,
 "nbformat_minor": 5
}
