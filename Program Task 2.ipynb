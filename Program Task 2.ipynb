{
 "cells": [
  {
   "cell_type": "markdown",
   "id": "f08c3d68",
   "metadata": {},
   "source": [
    "#### Given the participants' score sheet for your University Sports Day, you are required to find the runner-up score. You are given  scores. Store them in a list and find the score of the runner-up."
   ]
  },
  {
   "cell_type": "code",
   "execution_count": 21,
   "id": "7433c4f1",
   "metadata": {},
   "outputs": [
    {
     "name": "stdout",
     "output_type": "stream",
     "text": [
      "5\n",
      "1 2 3 4 5\n",
      "4\n"
     ]
    }
   ],
   "source": [
    "n=int(input())\n",
    "\n",
    "arr=(map(int,input().split()))\n",
    "\n",
    "arr=sorted(set(arr))\n",
    "\n",
    "print(arr[-2])"
   ]
  },
  {
   "cell_type": "code",
   "execution_count": 9,
   "id": "360235b0",
   "metadata": {},
   "outputs": [
    {
     "name": "stdout",
     "output_type": "stream",
     "text": [
      "Enter the no of student3\n",
      "Enter the name23\n",
      "Enter the mark34\n",
      "Enter the nameqw\n",
      "Enter the mark34\n",
      "Enter the namefff\n",
      "Enter the mark56\n",
      "fff\n"
     ]
    }
   ],
   "source": [
    "\n",
    "\n",
    "d={}\n",
    "student = []\n",
    "\n",
    "n =int(input(\"Enter the no of student\"))   \n",
    "    \n",
    "for i in range(n):\n",
    "    \n",
    "    name=input(\"Enter the name\")\n",
    "    mark=int(input(\"Enter the mark\"))\n",
    "    d[name]=mark\n",
    "    student.append(mark)\n",
    "mark=sorted(set(student))\n",
    "min_mark=mark[1]\n",
    "\n",
    "\n",
    "for key, value in sorted(d.items()):\n",
    "    if value==min_mark:\n",
    "        \n",
    "        print(key)\n",
    "\n"
   ]
  },
  {
   "cell_type": "code",
   "execution_count": null,
   "id": "e89fd69e",
   "metadata": {},
   "outputs": [],
   "source": []
  },
  {
   "cell_type": "code",
   "execution_count": 14,
   "id": "2f1b655c",
   "metadata": {},
   "outputs": [
    {
     "name": "stdout",
     "output_type": "stream",
     "text": [
      "3\n",
      "maha 3 4 5\n",
      "maha\n",
      "4.0\n"
     ]
    }
   ],
   "source": [
    "n=int(input())\n",
    "\n",
    "student_mark={}\n",
    "\n",
    "name, *line = input().split()\n",
    "score=list(map(float,line))\n",
    "\n",
    "student_mark[name]=score\n",
    "query_name=input()\n",
    "\n",
    "avg=sum(student_mark[query_name])/len(student_mark[query_name])\n",
    "print(avg)\n",
    "\n",
    "\n",
    "\n",
    "\n",
    "\n",
    "\n",
    "\n"
   ]
  },
  {
   "cell_type": "code",
   "execution_count": null,
   "id": "9fe5f3c2",
   "metadata": {},
   "outputs": [],
   "source": []
  },
  {
   "cell_type": "code",
   "execution_count": 11,
   "id": "28c82d5b",
   "metadata": {},
   "outputs": [
    {
     "name": "stdout",
     "output_type": "stream",
     "text": [
      "my name is maha\n",
      "my\n",
      "name is maha\n"
     ]
    }
   ],
   "source": [
    "name,*line=input().split()\n",
    "\n",
    "print(name)\n",
    "print(*line)"
   ]
  },
  {
   "cell_type": "markdown",
   "id": "82004508",
   "metadata": {},
   "source": [
    "\n",
    "###List Comprehensions\n",
    "\n",
    "Let's learn about list comprehensions! You are given three integers  and  representing the dimensions of a cuboid along with an integer . Print a list of all possible coordinates given by  on a 3D grid where the sum of  is not equal to . Here, . Please use list comprehensions rather than multiple loops, as a learning exercise.\n",
    "\n"
   ]
  },
  {
   "cell_type": "code",
   "execution_count": 18,
   "id": "3100b43f",
   "metadata": {
    "scrolled": true
   },
   "outputs": [
    {
     "name": "stdout",
     "output_type": "stream",
     "text": [
      "1\n",
      "2\n",
      "1\n",
      "1\n",
      "[[0, 0, 0], [0, 1, 1], [0, 2, 0], [0, 2, 1], [1, 0, 1], [1, 1, 0], [1, 1, 1], [1, 2, 0], [1, 2, 1]]\n"
     ]
    }
   ],
   "source": [
    "x=int(input())\n",
    "y=int(input())\n",
    "z=int(input())\n",
    "n=int(input())\n",
    "\n",
    "\n",
    "    \n",
    "print([[i,j,k] for i in range(x+1) for j in range(y+1) for k in range(z+1) if (i+j+k)!=n ])"
   ]
  },
  {
   "cell_type": "markdown",
   "id": "ae88b551",
   "metadata": {},
   "source": [
    "#### Consider a list (list = []). You can perform the following commands:\n",
    "\n",
    "insert i e: Insert integer  at position .\n",
    "print: Print the list.\n",
    "remove e: Delete the first occurrence of integer .\n",
    "append e: Insert integer  at the end of the list.\n",
    "sort: Sort the list.\n",
    "pop: Pop the last element from the list.\n",
    "reverse: Reverse the list.\n",
    "\n",
    "\n",
    "\n",
    "\n"
   ]
  },
  {
   "cell_type": "code",
   "execution_count": null,
   "id": "7952bc72",
   "metadata": {},
   "outputs": [],
   "source": [
    "n=int(input())\n",
    "l=[]\n",
    "\n",
    "for i in range(0,n):\n",
    "    cmd=input().split()\n",
    "    if cmd[0]==\"insert\":\n",
    "        l.insert(int(cmd[1]),int(cmd[2]))\n",
    "        \n",
    "    elif cmd[0]==\"append\":\n",
    "        l.append(int(cmd[1]))\n",
    "        \n",
    "    elif cmd[0]==\"pop\":\n",
    "        l.pop();\n",
    "    elif cmd[0]==\"remove\":\n",
    "        l.remove(int(cmd[1]))\n",
    "    elif cmd[0]==\"sort\":\n",
    "        l.sort();\n",
    "    else:\n",
    "        l.reverse()\n",
    "    \n",
    "        \n",
    "        print(l)\n",
    "\n",
    "\n"
   ]
  },
  {
   "cell_type": "markdown",
   "id": "596d2149",
   "metadata": {},
   "source": [
    "### Task\n",
    "\n",
    "Given an integer, , and  space-separated integers as input, create a tuple, , of those  integers. Then compute and print the result of .\n",
    "\n",
    "Note: hash() is one of the functions in the __builtins__ module, so it need not be imported."
   ]
  },
  {
   "cell_type": "code",
   "execution_count": 2,
   "id": "12b78fbe",
   "metadata": {
    "scrolled": true
   },
   "outputs": [
    {
     "name": "stdout",
     "output_type": "stream",
     "text": [
      "2\n",
      "1 2\n",
      "-3550055125485641917\n"
     ]
    }
   ],
   "source": [
    "n=int(input())\n",
    "\n",
    "int_list=map(int,input().split())\n",
    "\n",
    "t=tuple(int_list)\n",
    "print(hash(t))\n",
    "\n",
    "\n",
    "\n",
    "\n"
   ]
  },
  {
   "cell_type": "code",
   "execution_count": null,
   "id": "5edd2eb7",
   "metadata": {},
   "outputs": [],
   "source": []
  },
  {
   "cell_type": "markdown",
   "id": "04e4e643",
   "metadata": {},
   "source": [
    "### Task\n",
    "\n",
    "Now, let's use our knowledge of sets and help Mickey.\n",
    "\n",
    "Ms. Gabriel Williams is a botany professor at District College. One day, she asked her student Mickey to compute the average of all the plants with distinct heights in her greenhouse."
   ]
  },
  {
   "cell_type": "code",
   "execution_count": 7,
   "id": "1506c294",
   "metadata": {},
   "outputs": [
    {
     "name": "stdout",
     "output_type": "stream",
     "text": [
      "5\n",
      "100 100 200 200 500\n",
      "266.6666666666667\n"
     ]
    }
   ],
   "source": [
    "n=int(input())\n",
    "\n",
    "set_list=map(int,input().split())\n",
    "set_value=set(set_list)\n",
    "avg=sum(set_value)/len(set_value)\n",
    "\n",
    "print(avg)\n",
    "\n"
   ]
  },
  {
   "cell_type": "markdown",
   "id": "e56b17aa",
   "metadata": {},
   "source": [
    "## No Idea"
   ]
  },
  {
   "cell_type": "code",
   "execution_count": 19,
   "id": "67f1b489",
   "metadata": {},
   "outputs": [
    {
     "name": "stdout",
     "output_type": "stream",
     "text": [
      "1 2 3\n",
      "1 2 3 4 5\n",
      "2 3\n",
      "1 2\n",
      "1\n"
     ]
    }
   ],
   "source": [
    "\n",
    "happy=0\n",
    "n= map(int,input().strip().split(\" \"))\n",
    "arr=list(map(int,input().strip().split(\" \")))\n",
    "good=set(map(int,input().strip().split(\" \")))\n",
    "bad=set(map(int,input().strip().split(\" \")))\n",
    "\n",
    "for i in arr:\n",
    "    if i in good:\n",
    "        happy=happy+1\n",
    "    elif i in arr:\n",
    "        if i in bad:\n",
    "            happy=happy-1\n",
    "print(happy)\n",
    "\n",
    "\n",
    "\n",
    "\n"
   ]
  },
  {
   "cell_type": "markdown",
   "id": "30b5518d",
   "metadata": {},
   "source": [
    "## Task -  Symmetric Difference\n",
    "Given  sets of integers,  and , print their symmetric difference in ascending order. The term symmetric difference indicates those values that exist in either  or  but do not exist in both.\n"
   ]
  },
  {
   "cell_type": "code",
   "execution_count": 32,
   "id": "6a4e1534",
   "metadata": {
    "scrolled": true
   },
   "outputs": [
    {
     "name": "stdout",
     "output_type": "stream",
     "text": [
      "2\n",
      "2 3 4\n",
      "2\n",
      "3 4 5\n",
      "2\n",
      "5\n"
     ]
    }
   ],
   "source": [
    "n=int(input())\n",
    "n=map(int,input().split())\n",
    "m=int(input())\n",
    "m=map(int,input().split())\n",
    "\n",
    "set_list=set(m)\n",
    "set_list1=set(n)\n",
    "set_l1=set_list.difference(set_list1)\n",
    "set_l2=set_list1.difference(set_list)\n",
    "\n",
    "new_set =set_l1.union(set_l2)\n",
    "for i in sorted(new_set):\n",
    "    print(i)\n",
    "    "
   ]
  },
  {
   "cell_type": "markdown",
   "id": "b7f416ff",
   "metadata": {},
   "source": [
    "### Set_Add"
   ]
  },
  {
   "cell_type": "code",
   "execution_count": 7,
   "id": "e2b5d3bc",
   "metadata": {},
   "outputs": [
    {
     "name": "stdout",
     "output_type": "stream",
     "text": [
      "7\n",
      "Chennai mumbai kolkatta hydrabad delhi jaipur jaipur\n",
      "6\n"
     ]
    }
   ],
   "source": [
    "n=int(input())\n",
    "\n",
    "n_name= map(str,input().split())\n",
    "\n",
    "res=set(n_name)\n",
    "\n",
    "\n",
    "print(len(res))\n",
    "\n"
   ]
  },
  {
   "cell_type": "markdown",
   "id": "2a90811d",
   "metadata": {},
   "source": [
    "### Discard, remove, pop"
   ]
  },
  {
   "cell_type": "code",
   "execution_count": 4,
   "id": "a49b2555",
   "metadata": {
    "scrolled": true
   },
   "outputs": [
    {
     "name": "stdout",
     "output_type": "stream",
     "text": [
      "4\n",
      "1 2 3 4\n",
      "3\n",
      "remove 1\n",
      "discard 2\n",
      "pop\n",
      "4\n"
     ]
    }
   ],
   "source": [
    "n=int(input())\n",
    "n_set=set(map(int,input().split()))\n",
    "\n",
    "no_input=int(input())\n",
    "\n",
    "for i in range(no_input):\n",
    "    name=input().split()\n",
    "    if name[0]==\"remove\":\n",
    "        n_set.remove(int(name[1]))\n",
    "    elif name[0]==\"discard\":\n",
    "        n_set.discard(int(name[1]))\n",
    "    else:\n",
    "        n_set.pop()\n",
    "print(sum(list(n_set)))\n",
    "        \n",
    "    \n",
    "\n",
    "\n",
    "    \n",
    "\n"
   ]
  },
  {
   "cell_type": "markdown",
   "id": "5882c89d",
   "metadata": {},
   "source": [
    "### Task - Union\n",
    "The students of District College have subscriptions to English and French newspapers. Some students have subscribed only to English, some have subscribed to only French and some have subscribed to both newspapers."
   ]
  },
  {
   "cell_type": "code",
   "execution_count": 4,
   "id": "5e9bade3",
   "metadata": {},
   "outputs": [
    {
     "name": "stdout",
     "output_type": "stream",
     "text": [
      "4\n",
      "1 2 3 4\n",
      "4\n",
      "3 4 5 6\n",
      "6\n"
     ]
    }
   ],
   "source": [
    "n=int(input())\n",
    "n_list=set(map(int,input().split()))\n",
    "\n",
    "m=int(input())\n",
    "m_list=set(map(int,input().split()))\n",
    "\n",
    "list_union=n_list.union(m_list)\n",
    "\n",
    "print(len(list_union))"
   ]
  },
  {
   "cell_type": "markdown",
   "id": "f8e5885c",
   "metadata": {},
   "source": [
    "### Intersection"
   ]
  },
  {
   "cell_type": "code",
   "execution_count": 9,
   "id": "99b719fd",
   "metadata": {
    "scrolled": true
   },
   "outputs": [
    {
     "name": "stdout",
     "output_type": "stream",
     "text": [
      "4\n",
      "1 2 3 4\n",
      "4\n",
      "2 3 5 6\n",
      "2\n"
     ]
    }
   ],
   "source": [
    "n=int(input())\n",
    "n_list=set(map(int,input().split()))\n",
    "m=int(input())\n",
    "m_list=set(map(int,input().split()))\n",
    "final_list=n_list.intersection(m_list)\n",
    "print(len(final_list))"
   ]
  },
  {
   "cell_type": "markdown",
   "id": "8896bf06",
   "metadata": {},
   "source": [
    "### Difference"
   ]
  },
  {
   "cell_type": "code",
   "execution_count": 12,
   "id": "34f4dae2",
   "metadata": {
    "scrolled": true
   },
   "outputs": [
    {
     "name": "stdout",
     "output_type": "stream",
     "text": [
      "4\n",
      "1 2 3 4\n",
      "4\n",
      "2 3 4 5\n",
      "1\n"
     ]
    }
   ],
   "source": [
    "n=int(input())\n",
    "n_list=set(map(int,input().split()))\n",
    "m=int(input())\n",
    "m_list=set(map(int,input().split()))\n",
    "final_list=n_list.difference(m_list)\n",
    "print(len(final_list))"
   ]
  },
  {
   "cell_type": "markdown",
   "id": "6ea12194",
   "metadata": {},
   "source": [
    "## Symmetric Difference"
   ]
  },
  {
   "cell_type": "code",
   "execution_count": 14,
   "id": "0efbd97a",
   "metadata": {},
   "outputs": [
    {
     "name": "stdout",
     "output_type": "stream",
     "text": [
      "4\n",
      "1 2 3 4\n",
      "4\n",
      "2 3 4 5 6\n",
      "1\n"
     ]
    }
   ],
   "source": [
    "n=int(input())\n",
    "n_list=set(map(int,input().split()))\n",
    "m=int(input())\n",
    "m_list=set(map(int,input().split()))\n",
    "final_list=n_list.difference(m_list)\n",
    "print(len(final_list))\n"
   ]
  },
  {
   "cell_type": "markdown",
   "id": "63cc5f10",
   "metadata": {},
   "source": [
    "## TASK\n",
    "You are given a set  and  number of other sets. These  number of sets have to perform some specific mutation operations on set .\n",
    "\n",
    "Your task is to execute those operations and print the sum of elements from set ."
   ]
  },
  {
   "cell_type": "code",
   "execution_count": null,
   "id": "c0529b02",
   "metadata": {},
   "outputs": [],
   "source": [
    "len_set = int(input())\n",
    "\n",
    "storage = set(map(int, input().split()))\n",
    "\n",
    "op_len = int(input())\n",
    "\n",
    "for i in range(op_len):\n",
    "    operation = input().split()\n",
    "    if operation[0] == 'intersection_update':\n",
    "        temp_storage = set(map(int, input().split()))\n",
    "        storage.intersection_update(temp_storage)\n",
    "    elif operation[0] == 'update':\n",
    "        temp_storage = set(map(int, input().split()))\n",
    "        storage.update(temp_storage)\n",
    "    elif operation[0] == 'symmetric_difference_update':\n",
    "        temp_storage = set(map(int, input().split()))\n",
    "        storage.symmetric_difference_update(temp_storage)\n",
    "    elif operation[0] == 'difference_update':\n",
    "        temp_storage = set(map(int, input().split()))\n",
    "        storage.difference_update(temp_storage)\n",
    "    else :\n",
    "        assert False\n",
    "        \n",
    "\n",
    "print(sum(storage))\n",
    "\n",
    "\n"
   ]
  },
  {
   "cell_type": "markdown",
   "id": "2b0ea9f4",
   "metadata": {},
   "source": [
    "### The Captian's Room"
   ]
  },
  {
   "cell_type": "code",
   "execution_count": 11,
   "id": "9bcb574c",
   "metadata": {},
   "outputs": [
    {
     "name": "stdout",
     "output_type": "stream",
     "text": [
      "2\n",
      "1 2 1 2 4\n",
      "4\n"
     ]
    }
   ],
   "source": [
    "\n",
    "N = int(input())\n",
    "\n",
    "storage = map(int, input().split())\n",
    "storage = sorted(storage)\n",
    "\n",
    "for i in range(len(storage)):\n",
    "    if(i != len(storage)-1):\n",
    "        if(storage[i]!=storage[i-1] and storage[i]!=storage[i+1]):\n",
    "            print(storage[i])\n",
    "            break;\n",
    "    else:\n",
    "        print(storage[i])\n",
    "\n",
    "\n",
    "\n",
    "\n"
   ]
  },
  {
   "cell_type": "markdown",
   "id": "86073f00",
   "metadata": {},
   "source": [
    "## subset"
   ]
  },
  {
   "cell_type": "code",
   "execution_count": null,
   "id": "a1d00294",
   "metadata": {
    "scrolled": true
   },
   "outputs": [
    {
     "name": "stdout",
     "output_type": "stream",
     "text": [
      "2\n",
      "2\n",
      "1 2\n",
      "3\n",
      "2 3 4\n",
      "False\n"
     ]
    }
   ],
   "source": [
    "for i in range(int(input())):\n",
    "    a = int(input())\n",
    "    set_a = set(map(int, input().split()))\n",
    "    b = int(input())\n",
    "    set_b = set(map(int, input().split()))\n",
    "    if len(set_a - set_b) == 0:\n",
    "        print(\"True\")\n",
    "    else:\n",
    "        print(\"False\")"
   ]
  },
  {
   "cell_type": "markdown",
   "id": "b8580706",
   "metadata": {},
   "source": [
    "### Stirct superset"
   ]
  },
  {
   "cell_type": "code",
   "execution_count": 1,
   "id": "2fe82eb8",
   "metadata": {},
   "outputs": [
    {
     "name": "stdout",
     "output_type": "stream",
     "text": [
      "1 2 3 4\n",
      "2\n",
      "1 2\n",
      "2 3\n",
      "True\n"
     ]
    }
   ],
   "source": [
    "a=map(int,input().split())\n",
    "\n",
    "result=True\n",
    "a_set=set(a)\n",
    "\n",
    "for i in range (int(input())):\n",
    "    if a_set.issuperset(set(map(int,input().split()))) is not True:\n",
    "        result=False\n",
    "        break\n",
    "print(result)\n",
    "        \n",
    "        \n",
    "        \n",
    "\n",
    "\n",
    "\n",
    "\n"
   ]
  },
  {
   "cell_type": "code",
   "execution_count": null,
   "id": "0ef9b76a",
   "metadata": {},
   "outputs": [],
   "source": []
  }
 ],
 "metadata": {
  "kernelspec": {
   "display_name": "Python 3 (ipykernel)",
   "language": "python",
   "name": "python3"
  },
  "language_info": {
   "codemirror_mode": {
    "name": "ipython",
    "version": 3
   },
   "file_extension": ".py",
   "mimetype": "text/x-python",
   "name": "python",
   "nbconvert_exporter": "python",
   "pygments_lexer": "ipython3",
   "version": "3.9.12"
  }
 },
 "nbformat": 4,
 "nbformat_minor": 5
}
