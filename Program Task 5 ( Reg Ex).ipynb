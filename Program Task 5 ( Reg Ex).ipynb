{
 "cells": [
  {
   "cell_type": "code",
   "execution_count": 1,
   "id": "cfa18d00",
   "metadata": {},
   "outputs": [
    {
     "name": "stdout",
     "output_type": "stream",
     "text": [
      "100,100,100.100\n",
      "100\n",
      "100\n",
      "100\n",
      "100\n"
     ]
    }
   ],
   "source": [
    "regex_pattern = r\"[,.]\"\t# Do not delete 'r'.\n",
    "\n",
    "\n",
    "import re\n",
    "print(\"\\n\".join(re.split(regex_pattern, input())))\n"
   ]
  },
  {
   "cell_type": "markdown",
   "id": "902e560c",
   "metadata": {},
   "source": [
    "### Group(), Groups() & Groupdict()\n"
   ]
  },
  {
   "cell_type": "code",
   "execution_count": 2,
   "id": "e3a6fb7f",
   "metadata": {},
   "outputs": [
    {
     "name": "stdout",
     "output_type": "stream",
     "text": [
      "..1224456611regev222\n",
      "2\n"
     ]
    }
   ],
   "source": [
    "import re\n",
    "\n",
    "char=input()\n",
    "patten=r\"([a-zA-Z0-9])\\1+\"\n",
    "\n",
    "match=re.search(patten,char)\n",
    "\n",
    "if match:\n",
    "    print(match.group(1))\n",
    "else:\n",
    "    print(-1)\n",
    "    "
   ]
  },
  {
   "cell_type": "code",
   "execution_count": null,
   "id": "cb0ef6d5",
   "metadata": {},
   "outputs": [],
   "source": []
  },
  {
   "cell_type": "code",
   "execution_count": 13,
   "id": "562db82a",
   "metadata": {
    "scrolled": true
   },
   "outputs": [
    {
     "name": "stdout",
     "output_type": "stream",
     "text": [
      "rabcdeefgyYhFjkIoomnpOeorteeeeet\n",
      "ee\n",
      "Ioo\n",
      "Oeo\n",
      "eeeee\n"
     ]
    }
   ],
   "source": [
    "import re\n",
    "\n",
    "str1=input()\n",
    "\n",
    "test= r'[aeiouAEIOU]{2,}'\n",
    "final=re.findall(test,str1)\n",
    "for i in final:\n",
    "    print(i)\n",
    "\n",
    "\n",
    "\n",
    "\n"
   ]
  },
  {
   "cell_type": "markdown",
   "id": "7799e735",
   "metadata": {},
   "source": [
    "## FindAll"
   ]
  },
  {
   "cell_type": "code",
   "execution_count": 14,
   "id": "b42b2115",
   "metadata": {},
   "outputs": [
    {
     "name": "stdout",
     "output_type": "stream",
     "text": [
      "rabcdeefgyYhFjkIoomnpOeorteeeeet\n",
      "ee\n",
      "Ioo\n",
      "Oeo\n",
      "eeeee\n"
     ]
    }
   ],
   "source": [
    "import re\n",
    "text = r'[aeiouAEIOU^]?[aeiouAEIOU]{2,}[^aeiouAEIOU$]'\n",
    "value = re.findall(text,input())\n",
    "if value:\n",
    "    [print(i[:-1]) for i in value]\n",
    "else:\n",
    "    print(-1)\n"
   ]
  },
  {
   "cell_type": "markdown",
   "id": "2ca2e292",
   "metadata": {},
   "source": [
    "## start() & end()"
   ]
  },
  {
   "cell_type": "code",
   "execution_count": 15,
   "id": "d2fee763",
   "metadata": {},
   "outputs": [
    {
     "name": "stdout",
     "output_type": "stream",
     "text": [
      "aaaba\n",
      "aa\n",
      "(0, 1)\n",
      "(1, 2)\n"
     ]
    }
   ],
   "source": [
    "import re\n",
    "\n",
    "S, k = input(), input()\n",
    "matches = re.finditer(r'(?=(' + k + '))', S)\n",
    "\n",
    "anymatch = False\n",
    "for match in matches:\n",
    "    anymatch = True\n",
    "    print((match.start(1), match.end(1) - 1))\n",
    "\n",
    "if anymatch == False:\n",
    "    print((-1, -1))"
   ]
  },
  {
   "cell_type": "code",
   "execution_count": 16,
   "id": "65942a50",
   "metadata": {},
   "outputs": [
    {
     "name": "stdout",
     "output_type": "stream",
     "text": [
      "H247578_P525578\n",
      "['P525578']\n"
     ]
    }
   ],
   "source": [
    "import re\n",
    "\n",
    "str_1=input()\n",
    "test=r'[P]\\d+'\n",
    "\n",
    "value=re.findall(test,str_1)\n",
    "print(value)"
   ]
  },
  {
   "cell_type": "markdown",
   "id": "943296cd",
   "metadata": {},
   "source": [
    "## Find the valid Phone number"
   ]
  },
  {
   "cell_type": "code",
   "execution_count": 1,
   "id": "30ee680e",
   "metadata": {
    "scrolled": true
   },
   "outputs": [
    {
     "name": "stdout",
     "output_type": "stream",
     "text": [
      "2\n",
      "9884500511\n",
      "Yes\n",
      "85757383838\n",
      "Yes\n"
     ]
    }
   ],
   "source": [
    "import re\n",
    "\n",
    "for i in range(int(input())):\n",
    "    print(\"Yes\" if re.match(r'^[7-9]\\d{9}',input()) else \"No\")\n",
    "    \n",
    "\n",
    "\n"
   ]
  },
  {
   "cell_type": "markdown",
   "id": "79d0d1cc",
   "metadata": {},
   "source": [
    "## Email Handling"
   ]
  },
  {
   "cell_type": "code",
   "execution_count": 6,
   "id": "68aee607",
   "metadata": {
    "scrolled": true
   },
   "outputs": [
    {
     "name": "stdout",
     "output_type": "stream",
     "text": [
      "1\n",
      "maha_electro@yahoo.co.in\n"
     ]
    }
   ],
   "source": [
    "import email.utils\n",
    "import re\n",
    "\n",
    "for _ in range(int(input())):\n",
    "    parser = email.utils.parseaddr(input())\n",
    "    email_pattern = r\"^[a-z][\\w\\-.]*@[a-z]+\\.[a-z]{1,3}$\"\n",
    "    match = re.search(email_pattern, parser[1], re.I)\n",
    "    if match:\n",
    "        print(email.utils.formataddr(parser))"
   ]
  },
  {
   "cell_type": "markdown",
   "id": "91cfea8d",
   "metadata": {},
   "source": [
    "### Credit card valid"
   ]
  },
  {
   "cell_type": "code",
   "execution_count": 1,
   "id": "f8b2d6f9",
   "metadata": {},
   "outputs": [
    {
     "name": "stdout",
     "output_type": "stream",
     "text": [
      "1\n",
      "4567093856990987\n",
      "Valid\n"
     ]
    }
   ],
   "source": [
    "\n",
    "\n",
    "\n",
    "for _ in range(int(input())): print('Valid' if __import__('re').match(r'^(?!.*(\\d)(-?\\1){3})[456]\\d{3}(?:-?\\d{4}){3}$', input()) else 'Invalid')\n",
    "    "
   ]
  },
  {
   "cell_type": "markdown",
   "id": "8798ae33",
   "metadata": {},
   "source": [
    "\n",
    "## Valid PIN code\n"
   ]
  },
  {
   "cell_type": "code",
   "execution_count": 3,
   "id": "34193743",
   "metadata": {},
   "outputs": [
    {
     "name": "stdout",
     "output_type": "stream",
     "text": [
      "1000304\n",
      "False\n"
     ]
    }
   ],
   "source": [
    "regex_integer_in_range = r\"^[1-9]\\d{5}$|^[1-9]\\d{4}$|^\\d{3,4}$|^\\d{2,3}$|^\\d{1,2}$|^\\d$\"\t# Do not delete 'r'.\n",
    "regex_alternating_repetitive_digit_pair = r\"(\\d)(?=\\d\\1)\"\t# Do not delete 'r'.\n",
    "\n",
    "\n",
    "\n",
    "import re\n",
    "P = input()\n",
    "\n",
    "print (bool(re.match(regex_integer_in_range, P)) \n",
    "and len(re.findall(regex_alternating_repetitive_digit_pair, P)) < 2)"
   ]
  },
  {
   "cell_type": "code",
   "execution_count": null,
   "id": "03ffaf66",
   "metadata": {},
   "outputs": [],
   "source": []
  }
 ],
 "metadata": {
  "kernelspec": {
   "display_name": "Python 3 (ipykernel)",
   "language": "python",
   "name": "python3"
  },
  "language_info": {
   "codemirror_mode": {
    "name": "ipython",
    "version": 3
   },
   "file_extension": ".py",
   "mimetype": "text/x-python",
   "name": "python",
   "nbconvert_exporter": "python",
   "pygments_lexer": "ipython3",
   "version": "3.9.12"
  }
 },
 "nbformat": 4,
 "nbformat_minor": 5
}
