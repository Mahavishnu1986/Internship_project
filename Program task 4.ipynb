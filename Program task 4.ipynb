{
 "cells": [
  {
   "cell_type": "code",
   "execution_count": 13,
   "id": "8423354d",
   "metadata": {},
   "outputs": [
    {
     "name": "stdout",
     "output_type": "stream",
     "text": [
      "my name is\n",
      "my-name-is\n"
     ]
    }
   ],
   "source": [
    "#### split the test and join using \"-\" symbol\n",
    "\n",
    "\n",
    "def split_and_join(line):\n",
    "    a=line.split(\" \")\n",
    "    b=\"-\".join(a)\n",
    "    \n",
    "    return b\n",
    "\n",
    "line = input()\n",
    "result = split_and_join(line)\n",
    "print(result)\n",
    "    "
   ]
  },
  {
   "cell_type": "markdown",
   "id": "a239ff8e",
   "metadata": {},
   "source": [
    "### Join two Name"
   ]
  },
  {
   "cell_type": "code",
   "execution_count": 16,
   "id": "1976a692",
   "metadata": {},
   "outputs": [
    {
     "name": "stdout",
     "output_type": "stream",
     "text": [
      "Enter the namemaha\n",
      "Enter last namevishnu\n",
      "maha vishnu\n"
     ]
    }
   ],
   "source": [
    "a=input(\"Enter the name\")\n",
    "c=input(\"Enter last name\")\n",
    "\n",
    "b=\" \".join([a,c])\n",
    "\n",
    "print(b)"
   ]
  },
  {
   "cell_type": "markdown",
   "id": "76f6db05",
   "metadata": {},
   "source": [
    "#### Replace the position of given string"
   ]
  },
  {
   "cell_type": "code",
   "execution_count": 17,
   "id": "c116e5f7",
   "metadata": {},
   "outputs": [],
   "source": [
    "ef mutate_string(string, position, character):\n",
    "    \n",
    "    l=list(string)\n",
    "    l[position]=character\n",
    "    string=\"\".join(l)\n",
    "    \n",
    "    return string\n",
    "\n",
    "\n",
    "if __name__ == '__main__':\n",
    "    s = input()\n",
    "    i, c = input().split()\n",
    "    s_new = mutate_string(s, int(i), c)\n",
    "    print(s_new)"
   ]
  },
  {
   "cell_type": "markdown",
   "id": "eefdaa85",
   "metadata": {},
   "source": [
    "### Count the sub string in the given string"
   ]
  },
  {
   "cell_type": "code",
   "execution_count": 34,
   "id": "d87a1b2a",
   "metadata": {},
   "outputs": [
    {
     "name": "stdout",
     "output_type": "stream",
     "text": [
      "mahavishnu\n",
      "maha\n",
      "1\n"
     ]
    }
   ],
   "source": [
    "def count_substring(string, sub_string):\n",
    "    \n",
    "    \n",
    "    \n",
    "    count = 0\n",
    "    for i in range(len(string)-len(sub_string)+1):\n",
    "        if (string[i:i+len(sub_string)] == sub_string):\n",
    "            count += 1\n",
    "    return count\n",
    "\n",
    "\n",
    "string = input().strip()\n",
    "sub_string = input().strip()\n",
    "    \n",
    "count = count_substring(string, sub_string)\n",
    "print(count)\n",
    "    "
   ]
  },
  {
   "cell_type": "markdown",
   "id": "b51da4a3",
   "metadata": {},
   "source": [
    "#### You are given a string .\n",
    "Your task is to find out if the string  contains: alphanumeric characters, alphabetical characters, digits, lowercase and uppercase characters."
   ]
  },
  {
   "cell_type": "code",
   "execution_count": 47,
   "id": "2452d3aa",
   "metadata": {
    "scrolled": true
   },
   "outputs": [
    {
     "name": "stdout",
     "output_type": "stream",
     "text": [
      "mahaha\n",
      "True\n",
      "True\n",
      "False\n",
      "True\n",
      "False\n"
     ]
    }
   ],
   "source": [
    " s = input()\n",
    "    \n",
    "print(any(map(str.isalnum,s)))\n",
    "print(any(map(str.isalpha,s)))\n",
    "print(any(map(str.isdigit,s)))\n",
    "print(any(map(str.islower,s)))\n",
    "print(any(map(str.isupper,s)))\n",
    "    \n",
    "\n"
   ]
  },
  {
   "cell_type": "markdown",
   "id": "3287820d",
   "metadata": {},
   "source": [
    "### Print the string with given lenght "
   ]
  },
  {
   "cell_type": "code",
   "execution_count": 71,
   "id": "dd1f3051",
   "metadata": {},
   "outputs": [],
   "source": [
    "\n",
    "\n",
    "\n",
    "def split_str(str1,lenth_str):\n",
    "    for i in range(0,len(str1),lenth_str):\n",
    "        result=str1[i:i+lenth_str]\n",
    "        print(result)\n",
    "\n",
    "\n",
    "\n"
   ]
  },
  {
   "cell_type": "code",
   "execution_count": 74,
   "id": "d9e8e0da",
   "metadata": {
    "scrolled": true
   },
   "outputs": [
    {
     "name": "stdout",
     "output_type": "stream",
     "text": [
      "Inno\n",
      "mati\n",
      "cs\n"
     ]
    }
   ],
   "source": [
    "split_str(\"Innomatics\",4)"
   ]
  },
  {
   "cell_type": "markdown",
   "id": "26ed028f",
   "metadata": {},
   "source": [
    "### Convert Proper case in the sentense "
   ]
  },
  {
   "cell_type": "code",
   "execution_count": 75,
   "id": "6d8ff7ba",
   "metadata": {},
   "outputs": [],
   "source": [
    "\n",
    "def solve(s):\n",
    "    result=s.title()\n",
    "    print(result)"
   ]
  },
  {
   "cell_type": "code",
   "execution_count": 77,
   "id": "5f8e27f4",
   "metadata": {},
   "outputs": [
    {
     "name": "stdout",
     "output_type": "stream",
     "text": [
      "Maha Vishnu\n"
     ]
    }
   ],
   "source": [
    "solve(\"maha vishnu\")"
   ]
  },
  {
   "cell_type": "code",
   "execution_count": null,
   "id": "ddc94b0a",
   "metadata": {},
   "outputs": [],
   "source": []
  }
 ],
 "metadata": {
  "kernelspec": {
   "display_name": "Python 3 (ipykernel)",
   "language": "python",
   "name": "python3"
  },
  "language_info": {
   "codemirror_mode": {
    "name": "ipython",
    "version": 3
   },
   "file_extension": ".py",
   "mimetype": "text/x-python",
   "name": "python",
   "nbconvert_exporter": "python",
   "pygments_lexer": "ipython3",
   "version": "3.9.12"
  }
 },
 "nbformat": 4,
 "nbformat_minor": 5
}
